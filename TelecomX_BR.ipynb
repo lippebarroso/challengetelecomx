{
  "cells": [
    {
      "cell_type": "markdown",
      "metadata": {
        "id": "view-in-github",
        "colab_type": "text"
      },
      "source": [
        "<a href=\"https://colab.research.google.com/github/lippebarroso/challengetelecomx/blob/main/TelecomX_BR.ipynb\" target=\"_parent\"><img src=\"https://colab.research.google.com/assets/colab-badge.svg\" alt=\"Open In Colab\"/></a>"
      ]
    },
    {
      "cell_type": "markdown",
      "metadata": {
        "id": "4foVEKhrlqcH"
      },
      "source": [
        "#📌 Extracão"
      ]
    },
    {
      "cell_type": "code",
      "source": [
        "import pandas as pd"
      ],
      "metadata": {
        "id": "GyfwEKlA5LaC"
      },
      "execution_count": 2,
      "outputs": []
    },
    {
      "cell_type": "code",
      "execution_count": 3,
      "metadata": {
        "id": "1--uPM88l7JH",
        "colab": {
          "base_uri": "https://localhost:8080/"
        },
        "outputId": "70345f48-d01e-4525-ce12-f75e22da0d5e"
      },
      "outputs": [
        {
          "output_type": "stream",
          "name": "stdout",
          "text": [
            "      customerID Churn                                           customer  \\\n",
            "0     0002-ORFBO    No  {'gender': 'Female', 'SeniorCitizen': 0, 'Part...   \n",
            "1     0003-MKNFE    No  {'gender': 'Male', 'SeniorCitizen': 0, 'Partne...   \n",
            "2     0004-TLHLJ   Yes  {'gender': 'Male', 'SeniorCitizen': 0, 'Partne...   \n",
            "3     0011-IGKFF   Yes  {'gender': 'Male', 'SeniorCitizen': 1, 'Partne...   \n",
            "4     0013-EXCHZ   Yes  {'gender': 'Female', 'SeniorCitizen': 1, 'Part...   \n",
            "...          ...   ...                                                ...   \n",
            "7262  9987-LUTYD    No  {'gender': 'Female', 'SeniorCitizen': 0, 'Part...   \n",
            "7263  9992-RRAMN   Yes  {'gender': 'Male', 'SeniorCitizen': 0, 'Partne...   \n",
            "7264  9992-UJOEL    No  {'gender': 'Male', 'SeniorCitizen': 0, 'Partne...   \n",
            "7265  9993-LHIEB    No  {'gender': 'Male', 'SeniorCitizen': 0, 'Partne...   \n",
            "7266  9995-HOTOH    No  {'gender': 'Male', 'SeniorCitizen': 0, 'Partne...   \n",
            "\n",
            "                                                  phone  \\\n",
            "0        {'PhoneService': 'Yes', 'MultipleLines': 'No'}   \n",
            "1       {'PhoneService': 'Yes', 'MultipleLines': 'Yes'}   \n",
            "2        {'PhoneService': 'Yes', 'MultipleLines': 'No'}   \n",
            "3        {'PhoneService': 'Yes', 'MultipleLines': 'No'}   \n",
            "4        {'PhoneService': 'Yes', 'MultipleLines': 'No'}   \n",
            "...                                                 ...   \n",
            "7262     {'PhoneService': 'Yes', 'MultipleLines': 'No'}   \n",
            "7263    {'PhoneService': 'Yes', 'MultipleLines': 'Yes'}   \n",
            "7264     {'PhoneService': 'Yes', 'MultipleLines': 'No'}   \n",
            "7265     {'PhoneService': 'Yes', 'MultipleLines': 'No'}   \n",
            "7266  {'PhoneService': 'No', 'MultipleLines': 'No ph...   \n",
            "\n",
            "                                               internet  \\\n",
            "0     {'InternetService': 'DSL', 'OnlineSecurity': '...   \n",
            "1     {'InternetService': 'DSL', 'OnlineSecurity': '...   \n",
            "2     {'InternetService': 'Fiber optic', 'OnlineSecu...   \n",
            "3     {'InternetService': 'Fiber optic', 'OnlineSecu...   \n",
            "4     {'InternetService': 'Fiber optic', 'OnlineSecu...   \n",
            "...                                                 ...   \n",
            "7262  {'InternetService': 'DSL', 'OnlineSecurity': '...   \n",
            "7263  {'InternetService': 'Fiber optic', 'OnlineSecu...   \n",
            "7264  {'InternetService': 'DSL', 'OnlineSecurity': '...   \n",
            "7265  {'InternetService': 'DSL', 'OnlineSecurity': '...   \n",
            "7266  {'InternetService': 'DSL', 'OnlineSecurity': '...   \n",
            "\n",
            "                                                account  \n",
            "0     {'Contract': 'One year', 'PaperlessBilling': '...  \n",
            "1     {'Contract': 'Month-to-month', 'PaperlessBilli...  \n",
            "2     {'Contract': 'Month-to-month', 'PaperlessBilli...  \n",
            "3     {'Contract': 'Month-to-month', 'PaperlessBilli...  \n",
            "4     {'Contract': 'Month-to-month', 'PaperlessBilli...  \n",
            "...                                                 ...  \n",
            "7262  {'Contract': 'One year', 'PaperlessBilling': '...  \n",
            "7263  {'Contract': 'Month-to-month', 'PaperlessBilli...  \n",
            "7264  {'Contract': 'Month-to-month', 'PaperlessBilli...  \n",
            "7265  {'Contract': 'Two year', 'PaperlessBilling': '...  \n",
            "7266  {'Contract': 'Two year', 'PaperlessBilling': '...  \n",
            "\n",
            "[7267 rows x 6 columns]\n"
          ]
        }
      ],
      "source": [
        "url = 'https://raw.githubusercontent.com/alura-cursos/challenge2-data-science/c28f6884bd0f6908832b324eb9d9c7f42e345d3e/TelecomX_Data.json'\n",
        "dados = pd.read_json(url)\n",
        "print(dados)"
      ]
    },
    {
      "cell_type": "markdown",
      "metadata": {
        "id": "1lSZP8zmmGZu"
      },
      "source": [
        "#🔧 Transformação"
      ]
    },
    {
      "cell_type": "code",
      "execution_count": null,
      "metadata": {
        "id": "bsm-WTLjmHvt"
      },
      "outputs": [],
      "source": []
    },
    {
      "cell_type": "markdown",
      "metadata": {
        "id": "6XnTC2NTmMRL"
      },
      "source": [
        "#📊 Carga e análise"
      ]
    },
    {
      "cell_type": "code",
      "execution_count": null,
      "metadata": {
        "id": "1jgUnLqTmPdd"
      },
      "outputs": [],
      "source": []
    },
    {
      "cell_type": "markdown",
      "metadata": {
        "id": "v-WzfSvTmaw9"
      },
      "source": [
        "#📄Relatorio Final"
      ]
    },
    {
      "cell_type": "code",
      "execution_count": null,
      "metadata": {
        "id": "XMTac0YJmeK9"
      },
      "outputs": [],
      "source": []
    }
  ],
  "metadata": {
    "colab": {
      "provenance": [],
      "include_colab_link": true
    },
    "kernelspec": {
      "display_name": "Python 3",
      "name": "python3"
    },
    "language_info": {
      "name": "python"
    }
  },
  "nbformat": 4,
  "nbformat_minor": 0
}