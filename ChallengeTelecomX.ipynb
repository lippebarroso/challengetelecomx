{
  "nbformat": 4,
  "nbformat_minor": 0,
  "metadata": {
    "colab": {
      "provenance": [],
      "authorship_tag": "ABX9TyMwWrDirkUJLuyDevm6lRAp",
      "include_colab_link": true
    },
    "kernelspec": {
      "name": "python3",
      "display_name": "Python 3"
    },
    "language_info": {
      "name": "python"
    }
  },
  "cells": [
    {
      "cell_type": "markdown",
      "metadata": {
        "id": "view-in-github",
        "colab_type": "text"
      },
      "source": [
        "<a href=\"https://colab.research.google.com/github/lippebarroso/challengetelecomx/blob/main/ChallengeTelecomX.ipynb\" target=\"_parent\"><img src=\"https://colab.research.google.com/assets/colab-badge.svg\" alt=\"Open In Colab\"/></a>"
      ]
    },
    {
      "cell_type": "code",
      "execution_count": 1,
      "metadata": {
        "id": "QoNdc7kyy611"
      },
      "outputs": [],
      "source": [
        "import pandas as pd"
      ]
    },
    {
      "cell_type": "code",
      "source": [
        "url = 'https://raw.githubusercontent.com/alura-cursos/challenge2-data-science/c28f6884bd0f6908832b324eb9d9c7f42e345d3e/TelecomX_Data.json'\n",
        "df = pd.read_json(url)\n",
        "print(dados)"
      ],
      "metadata": {
        "colab": {
          "base_uri": "https://localhost:8080/"
        },
        "id": "TS7cyh4HzNS3",
        "outputId": "d508e7d4-e8b4-4630-f2f6-4fd4c1146d94"
      },
      "execution_count": 7,
      "outputs": [
        {
          "output_type": "stream",
          "name": "stdout",
          "text": [
            "      customerID Churn                                           customer  \\\n",
            "0     0002-ORFBO    No  {'gender': 'Female', 'SeniorCitizen': 0, 'Part...   \n",
            "1     0003-MKNFE    No  {'gender': 'Male', 'SeniorCitizen': 0, 'Partne...   \n",
            "2     0004-TLHLJ   Yes  {'gender': 'Male', 'SeniorCitizen': 0, 'Partne...   \n",
            "3     0011-IGKFF   Yes  {'gender': 'Male', 'SeniorCitizen': 1, 'Partne...   \n",
            "4     0013-EXCHZ   Yes  {'gender': 'Female', 'SeniorCitizen': 1, 'Part...   \n",
            "...          ...   ...                                                ...   \n",
            "7262  9987-LUTYD    No  {'gender': 'Female', 'SeniorCitizen': 0, 'Part...   \n",
            "7263  9992-RRAMN   Yes  {'gender': 'Male', 'SeniorCitizen': 0, 'Partne...   \n",
            "7264  9992-UJOEL    No  {'gender': 'Male', 'SeniorCitizen': 0, 'Partne...   \n",
            "7265  9993-LHIEB    No  {'gender': 'Male', 'SeniorCitizen': 0, 'Partne...   \n",
            "7266  9995-HOTOH    No  {'gender': 'Male', 'SeniorCitizen': 0, 'Partne...   \n",
            "\n",
            "                                                  phone  \\\n",
            "0        {'PhoneService': 'Yes', 'MultipleLines': 'No'}   \n",
            "1       {'PhoneService': 'Yes', 'MultipleLines': 'Yes'}   \n",
            "2        {'PhoneService': 'Yes', 'MultipleLines': 'No'}   \n",
            "3        {'PhoneService': 'Yes', 'MultipleLines': 'No'}   \n",
            "4        {'PhoneService': 'Yes', 'MultipleLines': 'No'}   \n",
            "...                                                 ...   \n",
            "7262     {'PhoneService': 'Yes', 'MultipleLines': 'No'}   \n",
            "7263    {'PhoneService': 'Yes', 'MultipleLines': 'Yes'}   \n",
            "7264     {'PhoneService': 'Yes', 'MultipleLines': 'No'}   \n",
            "7265     {'PhoneService': 'Yes', 'MultipleLines': 'No'}   \n",
            "7266  {'PhoneService': 'No', 'MultipleLines': 'No ph...   \n",
            "\n",
            "                                               internet  \\\n",
            "0     {'InternetService': 'DSL', 'OnlineSecurity': '...   \n",
            "1     {'InternetService': 'DSL', 'OnlineSecurity': '...   \n",
            "2     {'InternetService': 'Fiber optic', 'OnlineSecu...   \n",
            "3     {'InternetService': 'Fiber optic', 'OnlineSecu...   \n",
            "4     {'InternetService': 'Fiber optic', 'OnlineSecu...   \n",
            "...                                                 ...   \n",
            "7262  {'InternetService': 'DSL', 'OnlineSecurity': '...   \n",
            "7263  {'InternetService': 'Fiber optic', 'OnlineSecu...   \n",
            "7264  {'InternetService': 'DSL', 'OnlineSecurity': '...   \n",
            "7265  {'InternetService': 'DSL', 'OnlineSecurity': '...   \n",
            "7266  {'InternetService': 'DSL', 'OnlineSecurity': '...   \n",
            "\n",
            "                                                account  \n",
            "0     {'Contract': 'One year', 'PaperlessBilling': '...  \n",
            "1     {'Contract': 'Month-to-month', 'PaperlessBilli...  \n",
            "2     {'Contract': 'Month-to-month', 'PaperlessBilli...  \n",
            "3     {'Contract': 'Month-to-month', 'PaperlessBilli...  \n",
            "4     {'Contract': 'Month-to-month', 'PaperlessBilli...  \n",
            "...                                                 ...  \n",
            "7262  {'Contract': 'One year', 'PaperlessBilling': '...  \n",
            "7263  {'Contract': 'Month-to-month', 'PaperlessBilli...  \n",
            "7264  {'Contract': 'Month-to-month', 'PaperlessBilli...  \n",
            "7265  {'Contract': 'Two year', 'PaperlessBilling': '...  \n",
            "7266  {'Contract': 'Two year', 'PaperlessBilling': '...  \n",
            "\n",
            "[7267 rows x 6 columns]\n"
          ]
        }
      ]
    }
  ]
}